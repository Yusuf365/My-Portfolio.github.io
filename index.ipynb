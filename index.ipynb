{
  "cells": [
    {
      "cell_type": "raw",
      "metadata": {},
      "source": [
        "---\n",
        "title: \"Welcome to My Portfolio\"\n",
        "output: \n",
        "  html_document:\n",
        "    theme: cosmo\n",
        "    toc: true\n",
        "    toc_float: true\n",
        "---"
      ],
      "id": "6d2d5543"
    },
    {
      "cell_type": "markdown",
      "metadata": {},
      "source": [
        "```{css, echo=FALSE}\n",
        ".profile-pic {\n",
        "  border-radius: 50%;\n",
        "  width: 150px;\n",
        "  height: auto;\n",
        "}\n",
        ".contact-info a {\n",
        "  text-decoration: none;\n",
        "  color: #007bff;\n",
        "}\n",
        ".contact-info a:hover {\n",
        "  text-decoration: underline;\n",
        "}"
      ],
      "id": "877abacc"
    }
  ],
  "metadata": {
    "kernelspec": {
      "display_name": "Python 3",
      "language": "python",
      "name": "python3"
    }
  },
  "nbformat": 4,
  "nbformat_minor": 5
}